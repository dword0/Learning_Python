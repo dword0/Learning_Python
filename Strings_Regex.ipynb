{
  "nbformat": 4,
  "nbformat_minor": 0,
  "metadata": {
    "kernelspec": {
      "display_name": "Python 3",
      "language": "python",
      "name": "python3"
    },
    "language_info": {
      "codemirror_mode": {
        "name": "ipython",
        "version": 3
      },
      "file_extension": ".py",
      "mimetype": "text/x-python",
      "name": "python",
      "nbconvert_exporter": "python",
      "pygments_lexer": "ipython3",
      "version": "3.7.3"
    },
    "colab": {
      "name": "LIVE_4_Strings_Regex.ipynb",
      "provenance": []
    }
  },
  "cells": [
    {
      "cell_type": "markdown",
      "metadata": {
        "id": "i_FopMqbYNvO"
      },
      "source": [
        "## LIVE 4: Strings and Regex \n",
        " - Focus: Basics of strings and regex in Python + Simple problem solving. \n",
        " - Prereq: Basic knowledge of Strings and Regex in Python + previous code-sessions.\n",
        " - Reference for basics: \n",
        "     - https://docs.python.org/3/howto/regex.html\n",
        "     - https://docs.python.org/3/library/re.html\n",
        "     - https://www.w3schools.com/python/python_strings.asp\n",
        "     - https://www.geeksforgeeks.org/python-strings/\n",
        "     "
      ]
    },
    {
      "cell_type": "markdown",
      "metadata": {
        "id": "MglE0CPtYNvR"
      },
      "source": [
        "## Quick recap of Regex in Python\n",
        "- Go through multiple examples to understand regex better\n",
        "- Key life-skill: learn from resources on the internet.\n",
        "- https://docs.python.org/3/howto/regex.html\n",
        "- https://www.w3schools.com/python/python_regex.asp\n",
        "- https://www.tutorialspoint.com/python/python_reg_expressions.htm\n"
      ]
    },
    {
      "cell_type": "markdown",
      "metadata": {
        "id": "Zq0HfYmeYNvS"
      },
      "source": [
        "## Problem-1: Mask personal information in email and phone numbers"
      ]
    },
    {
      "cell_type": "markdown",
      "metadata": {
        "id": "d1HZzUNYYNvT"
      },
      "source": [
        "- Email: xxxxxxxxx@aaaa.zzzz\n",
        "    - Masked:x#####x@aaaa.zzzz [FIVE # between first and last char of the name]  \n",
        "    \n",
        "    <br>\n",
        "    \n",
        "- Phone:  digits 0-9 or any of the characters from  { '-', '(', ')', ' '} \n",
        "    - Example: 1(234)567-890   --> ###-###-7890\"\n",
        "    "
      ]
    },
    {
      "cell_type": "code",
      "metadata": {
        "id": "G8f96_3dYNvU",
        "outputId": "84d5db20-2038-47ba-c94a-bdebbd9ac36a"
      },
      "source": [
        "# email-masking\n",
        "s = \"abcd@efgh.com\";\n",
        "\n",
        "#output: a#####d@efgh.com\n",
        "# Any suggestions?\n",
        "#\n",
        "#\n",
        "#\n",
        "#\n",
        "#\n",
        "#\n",
        "#\n",
        "#\n",
        "#\n",
        "#\n",
        "#\n",
        "#\n",
        "#\n",
        "#\n",
        "#\n",
        "#\n",
        "#\n",
        "#\n",
        "#\n",
        "#\n",
        "#\n",
        "#\n",
        "#\n",
        "#\n",
        "#\n",
        "#\n",
        "#\n",
        "#\n",
        "#\n",
        "#\n",
        "#\n",
        "#\n",
        "#\n",
        "#\n",
        "#\n",
        "#\n",
        "#\n",
        "#\n",
        "\n",
        "#simple string formatting : https://www.programiz.com/python-programming/methods/string/format\n",
        "\n",
        "from IPython.display import Image\n",
        "Image(url= \"https://cdn.programiz.com/sites/tutorial2program/files/python-format-positional-argument.jpg\")\n",
        "\n"
      ],
      "execution_count": null,
      "outputs": [
        {
          "output_type": "execute_result",
          "data": {
            "text/html": [
              "<img src=\"https://cdn.programiz.com/sites/tutorial2program/files/python-format-positional-argument.jpg\"/>"
            ],
            "text/plain": [
              "<IPython.core.display.Image object>"
            ]
          },
          "metadata": {
            "tags": []
          },
          "execution_count": 13
        }
      ]
    },
    {
      "cell_type": "code",
      "metadata": {
        "id": "VsGg_-veYNvW",
        "outputId": "a85e8b56-d6bc-4047-bdbd-7ea41ae4bfcd"
      },
      "source": [
        "# boundary case: check if email or not\n",
        "s = \"abcd@efgh.com\";\n",
        "\n",
        "def maskEmail(s):\n",
        "    if '@' in s: \n",
        "        name, domain = s.split('@')\n",
        "        return (\"{0}#####{1}@{2}\".format(name[0], name[-1], domain));\n",
        "\n",
        "print(maskEmail(s))"
      ],
      "execution_count": null,
      "outputs": [
        {
          "output_type": "stream",
          "text": [
            "a#####d@efgh.com\n"
          ],
          "name": "stdout"
        }
      ]
    },
    {
      "cell_type": "code",
      "metadata": {
        "id": "UnVSVOugYNvW",
        "outputId": "25033fd2-afba-4ce5-da99-4f1b290e7314"
      },
      "source": [
        "# BOUDNARY CASE: a@bcdef.com\n",
        "print(maskEmail(\"a@bcdef.com\"))"
      ],
      "execution_count": null,
      "outputs": [
        {
          "output_type": "stream",
          "text": [
            "a#####a@bcdef.com\n"
          ],
          "name": "stdout"
        }
      ]
    },
    {
      "cell_type": "code",
      "metadata": {
        "id": "SiTFhiy8YNvX",
        "outputId": "5e66fefd-d7c3-4a51-e619-968c580bcacc"
      },
      "source": [
        "# BOUDNARY CASE: abcd.com\n",
        "print(maskEmail(\"abcd.com\"))"
      ],
      "execution_count": null,
      "outputs": [
        {
          "output_type": "stream",
          "text": [
            "None\n"
          ],
          "name": "stdout"
        }
      ]
    },
    {
      "cell_type": "code",
      "metadata": {
        "id": "xQchHV-SYNvY",
        "outputId": "95b0b637-f46f-4302-a7e2-3e156b3f2638"
      },
      "source": [
        "# BOUDNARY CASE: abcd@cdef\n",
        "print(maskEmail(\"abcd@cdef\"))"
      ],
      "execution_count": null,
      "outputs": [
        {
          "output_type": "stream",
          "text": [
            "a#####d@cdef\n"
          ],
          "name": "stdout"
        }
      ]
    },
    {
      "cell_type": "code",
      "metadata": {
        "id": "7KbpjaqAYNvZ",
        "outputId": "bab7a1c8-5e62-4acc-c8b4-96ce15736110"
      },
      "source": [
        "# Check if email is valid is another function.\n",
        "# Any suggestions?\n",
        "#\n",
        "#\n",
        "#\n",
        "#\n",
        "#\n",
        "#\n",
        "#\n",
        "#\n",
        "#\n",
        "#\n",
        "#\n",
        "#\n",
        "#\n",
        "#\n",
        "#\n",
        "#\n",
        "#\n",
        "#\n",
        "#\n",
        "#\n",
        "#\n",
        "#\n",
        "#\n",
        "#\n",
        "#\n",
        "#\n",
        "#\n",
        "#\n",
        "#\n",
        "#\n",
        "#\n",
        "#\n",
        "#\n",
        "#\n",
        "#\n",
        "#\n",
        "#\n",
        "#\n",
        "import re\n",
        "def isValidEmail(s):\n",
        "    #refer:https://www.w3schools.com/python/python_regex.asp for regex syntax\n",
        "    #https://docs.python.org/2/library/re.html\n",
        "    \n",
        "    res = re.search('^\\w+([\\.-]?\\w+)*@\\w+([\\.-]?\\w+)*(\\.\\w{2,3})+$', s, re.IGNORECASE)   #https://www.geeksforgeeks.org/check-if-email-address-valid-or-not-in-python/   \n",
        "    print(res)\n",
        "    \n",
        "    if(res):\n",
        "        return True;\n",
        "    else:\n",
        "        return False;\n",
        "\n",
        "print(isValidEmail(\"abcd@cdef\"))"
      ],
      "execution_count": null,
      "outputs": [
        {
          "output_type": "stream",
          "text": [
            "None\n",
            "False\n"
          ],
          "name": "stdout"
        }
      ]
    },
    {
      "cell_type": "code",
      "metadata": {
        "id": "SJA_WDEVYNva",
        "outputId": "4cbb136e-b5ee-469f-9df8-907fa3444e0b"
      },
      "source": [
        "print(isValidEmail(\"abcd@cdef.c\"))"
      ],
      "execution_count": null,
      "outputs": [
        {
          "output_type": "stream",
          "text": [
            "None\n",
            "False\n"
          ],
          "name": "stdout"
        }
      ]
    },
    {
      "cell_type": "code",
      "metadata": {
        "id": "ElOZXphhYNva",
        "outputId": "61fc6781-e298-453f-d9d0-1d4cb97eaef4"
      },
      "source": [
        "print(isValidEmail(\"a@cdef.com\"))"
      ],
      "execution_count": null,
      "outputs": [
        {
          "output_type": "stream",
          "text": [
            "<re.Match object; span=(0, 10), match='a@cdef.com'>\n",
            "True\n"
          ],
          "name": "stdout"
        }
      ]
    },
    {
      "cell_type": "code",
      "metadata": {
        "id": "tFZCYVStYNvb",
        "outputId": "f7dec1b5-5d22-41b9-be30-447a0da900fb"
      },
      "source": [
        "print(isValidEmail(\"abcd@iisc.ac.in\"))"
      ],
      "execution_count": null,
      "outputs": [
        {
          "output_type": "stream",
          "text": [
            "<re.Match object; span=(0, 15), match='abcd@iisc.ac.in'>\n",
            "True\n"
          ],
          "name": "stdout"
        }
      ]
    },
    {
      "cell_type": "code",
      "metadata": {
        "id": "2PTAlEZrYNvb",
        "outputId": "eb8c4847-7981-46de-b95f-419258bde5f7"
      },
      "source": [
        "regex = '^\\w+([\\.-]?\\w+)*@\\w+([\\.-]?\\w+)*(\\.\\w{2,3})+$' # highly non-readbale code\n",
        "\n",
        "#https://docs.python.org/2/library/re.html\n",
        "regex_verbose = re.compile(r\"\"\"                  # VERY readable and easy to understand. Software maintanability.\n",
        "            ^\\w+([\\.-]?\\w+)*              # start, \\w+, \n",
        "            @                             # single @ sign \n",
        "            \\w+([\\.-]?\\w+)*               # Domain name \n",
        "            (\\.\\w{2,3})+$                 # .com, .ac.in,    \n",
        "             \"\"\",re.VERBOSE | re.IGNORECASE)          \n",
        "\n",
        "\n",
        "res = regex_verbose.match(\"abcd@iisc.ac.in\");\n",
        "\n",
        "print(res.string)\n",
        "print(res)"
      ],
      "execution_count": null,
      "outputs": [
        {
          "output_type": "stream",
          "text": [
            "abcd@iisc.ac.in\n",
            "<re.Match object; span=(0, 15), match='abcd@iisc.ac.in'>\n"
          ],
          "name": "stdout"
        }
      ]
    },
    {
      "cell_type": "code",
      "metadata": {
        "id": "hQbrtX6CYNvc",
        "outputId": "250e83c6-7571-4618-9fba-2557d74d0a8d"
      },
      "source": [
        "# PHONE NUMBER MASKING\n",
        "#Example: 1(234)567-890 --> ###-###-7890\"\n",
        "\n",
        "\n",
        "ph = \"1(234)567-890\"\n",
        "\n",
        "\n",
        "digits = re.sub(\"\\D\", \"\", ph)  # \\D=>non-decimal, re.substitute, https://docs.python.org/3/library/re.html \n",
        "\n",
        "print(digits)\n",
        "    \n",
        "masked =  \"###-###-{}\".format(digits[-4:])\n",
        "print(masked)\n",
        "\n"
      ],
      "execution_count": null,
      "outputs": [
        {
          "output_type": "stream",
          "text": [
            "1234567890\n",
            "###-###-7890\n"
          ],
          "name": "stdout"
        }
      ]
    },
    {
      "cell_type": "code",
      "metadata": {
        "id": "Lf6c9VQtYNvc",
        "outputId": "543f9a89-0333-4efe-995e-1489a596239e"
      },
      "source": [
        "def maskPhoneNum(ph):\n",
        "    digits = re.sub(\"\\D\", \"\", ph)  # \\D=>non-decimal, re.substitute, https://docs.python.org/3/library/re.html \n",
        "    if len(digits) != 10: # BOUNDARY CASE\n",
        "        return None;\n",
        "    else:\n",
        "        masked =  \"###-###-{}\".format(digits[-4:])\n",
        "        return masked\n",
        "\n",
        "print(maskPhoneNum(\"1(234)567-890\"))\n"
      ],
      "execution_count": null,
      "outputs": [
        {
          "output_type": "stream",
          "text": [
            "###-###-7890\n"
          ],
          "name": "stdout"
        }
      ]
    },
    {
      "cell_type": "markdown",
      "metadata": {
        "id": "7sLW0iAIYNvd"
      },
      "source": [
        "print(maskPhoneNum(\"1(234)567-89\"))"
      ]
    },
    {
      "cell_type": "markdown",
      "metadata": {
        "id": "S0nxT9HIYNvd"
      },
      "source": [
        "#### Exercise:  12 digit phone numbers with 2 digits of ISD  code strtaing with + \n",
        "- e.g: +86-(99)12345678    ---->  (+86)-###-###-5678\n",
        "************\n",
        "************\n",
        "************************\n",
        "************\n",
        "************\n",
        "************\n",
        "************\n"
      ]
    },
    {
      "cell_type": "markdown",
      "metadata": {
        "id": "zKEOQA3UYNve"
      },
      "source": [
        "## Problem 2: Extract data from a PDF invoice"
      ]
    },
    {
      "cell_type": "markdown",
      "metadata": {
        "id": "aFcpdm1rYNvf"
      },
      "source": [
        "- Given a PDF [https://slicedinvoices.com/pdf/wordpress-pdf-invoice-plugin-sample.pdf], extract predefined key fields from this PDF\n",
        "- Assume the format is fixed.\n"
      ]
    },
    {
      "cell_type": "markdown",
      "metadata": {
        "id": "Ouf6p13CYNvf"
      },
      "source": [
        "#### NOTE: Download and save the above PDF as invoice.pdf in the same folder as your iPython notebook for the following code to work\n"
      ]
    },
    {
      "cell_type": "code",
      "metadata": {
        "id": "e1HGNRgmYNvg",
        "outputId": "e89d73b2-bbc5-4e7b-9b76-e17602335dab"
      },
      "source": [
        "# https://realpython.com/pdf-python/#history-of-pypdf-pypdf2-and-pypdf4\n",
        "\n",
        "!pip3 install pyPDF4\n"
      ],
      "execution_count": null,
      "outputs": [
        {
          "output_type": "stream",
          "text": [
            "Collecting pyPDF4\n",
            "\u001b[?25l  Downloading https://files.pythonhosted.org/packages/4f/1f/509b44850c475c101aa5b5c9b81755cedd363389d6fbb5c53be6fa915a61/PyPDF4-1.27.0.tar.gz (63kB)\n",
            "\u001b[K    100% |████████████████████████████████| 71kB 1.5MB/s ta 0:00:011\n",
            "\u001b[?25hBuilding wheels for collected packages: pyPDF4\n",
            "  Building wheel for pyPDF4 (setup.py) ... \u001b[?25ldone\n",
            "\u001b[?25h  Stored in directory: /Users/varma/Library/Caches/pip/wheels/eb/4f/15/c64d533cb496fd874f56045fe30e8cc0ac59f99ecdd718040d\n",
            "Successfully built pyPDF4\n",
            "Installing collected packages: pyPDF4\n",
            "Successfully installed pyPDF4-1.27.0\n"
          ],
          "name": "stdout"
        }
      ]
    },
    {
      "cell_type": "code",
      "metadata": {
        "id": "9tPgYroRYNvh",
        "outputId": "60e77fb2-4d65-45b6-a1a6-c25a809e9252"
      },
      "source": [
        "# Google \"pyPDF extract text\" ---> https://www.soudegesu.com/en/post/python/extract-text-from-pdf-with-pypdf2/\n",
        "import PyPDF4\n",
        "\n",
        "FILE_PATH = './invoice.pdf'\n",
        "\n",
        "with open(FILE_PATH, mode='rb') as f:\n",
        "    reader = PyPDF4.PdfFileReader(f)\n",
        "    page = reader.getPage(0)\n",
        "    print(page.extractText())\n"
      ],
      "execution_count": null,
      "outputs": [
        {
          "output_type": "stream",
          "text": [
            "Invoice\n",
            "Payment is due within 30 days from date of invoice. Late payment is subject to fees of 5% per month.\n",
            "Thanks for choosing \n",
            "DEMO - Sliced Invoices\n",
            " | \n",
            "admin@slicedinvoices.com\n",
            "Page 1/1\n",
            "From:\n",
            "DEMO - Sliced Invoices\n",
            "Suite 5A-1204\n",
            "123 Somewhere Street\n",
            "Your City AZ 12345\n",
            "admin@slicedinvoices.com\n",
            "Invoice Number\n",
            "INV-3337\n",
            "Order Number\n",
            "12345\n",
            "Invoice Date\n",
            "January 25, 2016\n",
            "Due Date\n",
            "January 31, 2016\n",
            "Total Due\n",
            "$93.50\n",
            "To:\n",
            "Test Business\n",
            "123 Somewhere St\n",
            "Melbourne, VIC 3000\n",
            "test@test.com\n",
            "Hrs/Qty\n",
            "Service\n",
            "Rate/Price\n",
            "Adjust\n",
            "Sub Total\n",
            "1.00\n",
            "Web Design\n",
            "This is a sample description...\n",
            "$85.00\n",
            "0.00%\n",
            "$85.00\n",
            "Sub Total\n",
            "$85.00\n",
            "Tax\n",
            "$8.50\n",
            "Total\n",
            "$93.50\n",
            "ANZ Bank\n",
            "ACC # 1234 1234\n",
            "BSB # 4321 432\n",
            "Paid\n",
            "\n"
          ],
          "name": "stdout"
        }
      ]
    },
    {
      "cell_type": "code",
      "metadata": {
        "id": "q4i2UEsDYNvh"
      },
      "source": [
        "import PyPDF4\n",
        "\n",
        "FILE_PATH = './invoice.pdf'\n",
        "\n",
        "with open(FILE_PATH, mode='rb') as f:\n",
        "    reader = PyPDF4.PdfFileReader(f)\n",
        "    page = reader.getPage(0)\n",
        "    txt = page.extractText();"
      ],
      "execution_count": null,
      "outputs": []
    },
    {
      "cell_type": "code",
      "metadata": {
        "id": "9890MQn3YNvi",
        "outputId": "987d80bd-bb8d-46e1-e1d8-35cd35d22cc3"
      },
      "source": [
        "# extract invoice number\n",
        "\n",
        "m = re.findall(\"INV-[0-9]*\", txt)\n",
        "print(m)\n"
      ],
      "execution_count": null,
      "outputs": [
        {
          "output_type": "stream",
          "text": [
            "['INV-3337']\n"
          ],
          "name": "stdout"
        }
      ]
    },
    {
      "cell_type": "code",
      "metadata": {
        "id": "Sk8sxwX8YNvj",
        "outputId": "025dc705-0c4a-482c-f922-3c96e93e629d"
      },
      "source": [
        "# extract amounts\n",
        "m = re.findall(\"$[0-9]*\\.[0-9]*\", txt)\n",
        "print(m)\n"
      ],
      "execution_count": null,
      "outputs": [
        {
          "output_type": "stream",
          "text": [
            "[]\n"
          ],
          "name": "stdout"
        }
      ]
    },
    {
      "cell_type": "code",
      "metadata": {
        "id": "_6Q5R-dlYNvj"
      },
      "source": [
        ""
      ],
      "execution_count": null,
      "outputs": []
    },
    {
      "cell_type": "code",
      "metadata": {
        "id": "JFc0Rr53YNvj",
        "outputId": "5663ec73-5bbb-42cd-cddb-14da44917ff3"
      },
      "source": [
        "\n",
        "# extract amounts\n",
        "m = re.findall(\"\\$[0-9]*\\.[0-9]*\", txt)\n",
        "print(m)\n"
      ],
      "execution_count": null,
      "outputs": [
        {
          "output_type": "stream",
          "text": [
            "['$93.50', '$85.00', '$85.00', '$85.00', '$8.50', '$93.50']\n"
          ],
          "name": "stdout"
        }
      ]
    },
    {
      "cell_type": "markdown",
      "metadata": {
        "id": "ehvijLYvYNvk"
      },
      "source": [
        "*********\n",
        "*********\n",
        "*********\n",
        "*********\n",
        "*********\n",
        "******************\n",
        "*********\n",
        "*********\n",
        "******************\n",
        "*********\n"
      ]
    },
    {
      "cell_type": "code",
      "metadata": {
        "id": "z1ysNu02YNvk",
        "outputId": "2f68d7a7-6272-48d8-d1ab-460160c8b103"
      },
      "source": [
        "# Extract Total Due:\n",
        "m = re.findall(\"Total Due\\$[0-9]*\\.[0-9]*\", txt)\n",
        "print(m)\n",
        "\n"
      ],
      "execution_count": null,
      "outputs": [
        {
          "output_type": "stream",
          "text": [
            "[]\n"
          ],
          "name": "stdout"
        }
      ]
    },
    {
      "cell_type": "code",
      "metadata": {
        "id": "9BsS_RdQYNvk",
        "outputId": "10e2e9a1-0016-4b4e-e12d-36a8cee1fa83"
      },
      "source": [
        "# Any suggestions?\n",
        "#\n",
        "#\n",
        "#\n",
        "#\n",
        "#\n",
        "#\n",
        "#\n",
        "#\n",
        "#\n",
        "#\n",
        "#\n",
        "#\n",
        "#\n",
        "#\n",
        "#\n",
        "#\n",
        "#\n",
        "#\n",
        "#\n",
        "#\n",
        "#\n",
        "#\n",
        "#\n",
        "#\n",
        "#\n",
        "#\n",
        "#\n",
        "#\n",
        "#\n",
        "#\n",
        "#\n",
        "#\n",
        "#\n",
        "#\n",
        "#\n",
        "#\n",
        "#\n",
        "#\n",
        "# Extract Total Due:\n",
        "m = re.findall(\"Total Due\\n\\$[0-9]*\\.[0-9]*\", txt)\n",
        "print(m)"
      ],
      "execution_count": null,
      "outputs": [
        {
          "output_type": "stream",
          "text": [
            "['Total Due\\n$93.50']\n"
          ],
          "name": "stdout"
        }
      ]
    },
    {
      "cell_type": "code",
      "metadata": {
        "id": "cYFmffCDYNvl",
        "outputId": "f3aeea06-dfe6-47c6-d3f4-ff6379761c5a"
      },
      "source": [
        "print(re.findall(\"\\$[0-9]*\\.[0-9]*\",m[0]))"
      ],
      "execution_count": null,
      "outputs": [
        {
          "output_type": "stream",
          "text": [
            "['$93.50']\n"
          ],
          "name": "stdout"
        }
      ]
    },
    {
      "cell_type": "markdown",
      "metadata": {
        "id": "_kJIFZDgYNvl"
      },
      "source": [
        "### Ques: How do we handle cases where we want to extract data from multiple invoice formats?\n",
        "\n",
        "\n",
        "#### Assignment: Extract email-addresses from the PDF\n",
        "\n",
        "#### We will continue from here tomorrow. Pelase go through regex- referecnes in detail for tomorrow's session. We will solve a few product based company interview questions."
      ]
    },
    {
      "cell_type": "code",
      "metadata": {
        "id": "HkybGZ9vYNvl"
      },
      "source": [
        ""
      ],
      "execution_count": null,
      "outputs": []
    }
  ]
}