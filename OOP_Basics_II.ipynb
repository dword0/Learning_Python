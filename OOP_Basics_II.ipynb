{
  "nbformat": 4,
  "nbformat_minor": 0,
  "metadata": {
    "celltoolbar": "Slideshow",
    "kernelspec": {
      "display_name": "Python 3",
      "language": "python",
      "name": "python3"
    },
    "language_info": {
      "codemirror_mode": {
        "name": "ipython",
        "version": 3
      },
      "file_extension": ".py",
      "mimetype": "text/x-python",
      "name": "python",
      "nbconvert_exporter": "python",
      "pygments_lexer": "ipython3",
      "version": "3.7.3"
    },
    "colab": {
      "name": "LIVE_OOP_Basics_II.ipynb",
      "provenance": []
    }
  },
  "cells": [
    {
      "cell_type": "markdown",
      "metadata": {
        "id": "-8DyGWGdVNQv"
      },
      "source": [
        "# OOP- II\n",
        "- Multiple-inheritence, Polymorphism, iterator-objects\n",
        "- Will answer a key questions from yesterday's live chat window. \n",
        "- Will cover a few good ideas like dir() that others suggested in the chat window yesterday.\n"
      ]
    },
    {
      "cell_type": "markdown",
      "metadata": {
        "id": "UuG2Nm1UVNQz"
      },
      "source": [
        "### How is OOP typically used in an ML role:\n",
        "- Using existing Classes.\n",
        "- Reading documentation to understand how to use a fucntion/class/module.\n",
        "- Fixing code bugs and understanding error messages.\n",
        "- Extending existing classes to modify some fucntionality in an existing class\n",
        "- Working with Software enigneers to build some ML classes for them to use in the larger software.\n",
        "- Do not perform OOD without understanding it well. Typically done by senior engineers/architects. A good beginner's book: https://learning.oreilly.com/library/view/head-first-design/0596007124/"
      ]
    },
    {
      "cell_type": "markdown",
      "metadata": {
        "id": "S_FLzy7hVNQ0"
      },
      "source": [
        "### Multiple-inheritence\n",
        "\n",
        "https://docs.python.org/3/tutorial/classes.html#multiple-inheritance\n",
        "\n",
        "class DerivedClassName(Base1, Base2, Base3):\n",
        "    <br>....\n",
        "    <br>....\n",
        "    \n"
      ]
    },
    {
      "cell_type": "code",
      "metadata": {
        "id": "y7JKQdbjVNQ1",
        "outputId": "a7295194-c2ef-4087-d3f4-8fbd83c24173"
      },
      "source": [
        "# toy-example: Modifications on https://overiq.com/python-101/inheritance-and-polymorphism-in-python/\n",
        "\n",
        "class A:\n",
        "    def explore(self):\n",
        "        print(\"explore in A  called\")\n",
        "class B:\n",
        "    def search(self):\n",
        "        print(\"search in B  called\")\n",
        "\n",
        "    def explore(self):\n",
        "        print(\"explore in B called\")\n",
        "\n",
        "class C:\n",
        "    def discover(self):\n",
        "        print(\"discover() in C  called\")\n",
        "\n",
        "class D(A, B, C): # multiple inheritence\n",
        "    def test(self):\n",
        "        print(\"test() in D called\")\n",
        " \n",
        " \n",
        "d_obj = D()\n",
        "d_obj.explore()\n",
        "d_obj.search()\n",
        "d_obj.discover()\n",
        "d_obj.test()"
      ],
      "execution_count": null,
      "outputs": [
        {
          "output_type": "stream",
          "text": [
            "explore in A  called\n",
            "search in B  called\n",
            "discover() in C  called\n",
            "test() in D called\n"
          ],
          "name": "stdout"
        }
      ]
    },
    {
      "cell_type": "code",
      "metadata": {
        "id": "wTYFEszkVNQ4",
        "outputId": "0054b303-4899-4e85-b821-9c475b8f4c53"
      },
      "source": [
        "# toy-example: Diamond inheritence a.k.a. Deadly dimaond\n",
        "\n",
        "class A:\n",
        "    def explore(self):\n",
        "        print(\"explore in A  called\")\n",
        "\n",
        "class B(A):\n",
        "\n",
        "    def explore(self):\n",
        "        print(\"explore in B called\")\n",
        "\n",
        "class C(A):\n",
        "    def explore(self):\n",
        "        print(\"explore in C  called\")\n",
        "\n",
        "class D(B, C): # multiple inheritence\n",
        "    pass;\n",
        " \n",
        "\n",
        "d_obj = D()\n",
        "d_obj.explore()\n"
      ],
      "execution_count": null,
      "outputs": [
        {
          "output_type": "stream",
          "text": [
            "explore in B called\n"
          ],
          "name": "stdout"
        }
      ]
    },
    {
      "cell_type": "markdown",
      "metadata": {
        "id": "r9X5TgY0VNQ5"
      },
      "source": [
        "### Polymorphism\n",
        "- Different forms\n",
        "- Operator level Polymorphism: 2+3, \"abc\" + \"def\"\n",
        "- Function level Polymorphism: len([1,2,3]), len (\"abcdef\"), len({1,2,3,4})\n",
        "- Class level Polymorphism"
      ]
    },
    {
      "cell_type": "code",
      "metadata": {
        "id": "MVHfkYOuVNQ5",
        "outputId": "dc84e888-11a9-4489-e640-7b1be6b0143f"
      },
      "source": [
        "print(len([1,2,3]));\n",
        "print(len(\"abcdef\"))\n",
        "print(len({1,2,3,4}))"
      ],
      "execution_count": null,
      "outputs": [
        {
          "output_type": "stream",
          "text": [
            "3\n",
            "6\n",
            "4\n"
          ],
          "name": "stdout"
        }
      ]
    },
    {
      "cell_type": "code",
      "metadata": {
        "id": "-HZS8mG9VNQ6",
        "outputId": "d82229cf-7e15-498d-bde2-6fa32747efb7"
      },
      "source": [
        "#class level Polymorphism\n",
        "\n",
        "class A:\n",
        "    def p(self):\n",
        "        return \"function p in A\"\n",
        "\n",
        "class B:\n",
        "    def p(self):\n",
        "        return \"function p in B\"\n",
        "    \n",
        "\n",
        "a = A();\n",
        "b = B();\n",
        "\n",
        "for i in (a,b):\n",
        "    print(i.p()) # the function that runs depends on the object type making this code much more elegant and crisp\n",
        "\n",
        "print(\"##########################\")\n",
        "\n",
        "x=a;\n",
        "print(x.p());\n",
        "\n",
        "x=b;\n",
        "print(x.p());"
      ],
      "execution_count": null,
      "outputs": [
        {
          "output_type": "stream",
          "text": [
            "function p in A\n",
            "function p in B\n",
            "##########################\n",
            "function p in A\n",
            "function p in B\n"
          ],
          "name": "stdout"
        }
      ]
    },
    {
      "cell_type": "code",
      "metadata": {
        "id": "yvLnG-2wVNQ7",
        "outputId": "dd9e68fb-9c9c-4241-974f-9eb4ce6653b0"
      },
      "source": [
        "# Polymorphism + Inheritence\n",
        "\n",
        "# example seen earlier: [Source: https://overiq.com/python-101/inheritance-and-polymorphism-in-python/]\n",
        "import math\n",
        " \n",
        "class Shape:\n",
        " \n",
        "    def __init__(self, color='black', filled=False):\n",
        "        self.__color = color\n",
        "        self.__filled = filled\n",
        " \n",
        "    def get_color(self):\n",
        "        return self.__color\n",
        " \n",
        "    def set_color(self, color):\n",
        "        self.__color = color\n",
        " \n",
        "    def get_filled(self):\n",
        "        return self.__filled\n",
        " \n",
        "    def set_filled(self, filled):\n",
        "        self.__filled = filled\n",
        " \n",
        " \n",
        "class Rectangle(Shape):\n",
        " \n",
        "    def __init__(self, length, breadth):\n",
        "        super().__init__()\n",
        "        self.__length = length\n",
        "        self.__breadth = breadth\n",
        " \n",
        "    def get_length(self):\n",
        "        return self.__length\n",
        " \n",
        "    def set_length(self, length):\n",
        "        self.__length = length\n",
        " \n",
        "    def get_breadth(self):\n",
        "        return self.__breadth\n",
        " \n",
        "    def set_breadth(self, breadth):\n",
        "        self.__breadth = breadth\n",
        " \n",
        "    def get_area(self):\n",
        "        return self.__length * self.__breadth\n",
        " \n",
        "    def get_perimeter(self):\n",
        "        return 2 * (self.__length + self.__breadth)\n",
        " \n",
        " \n",
        "class Circle(Shape):\n",
        "    def __init__(self, radius):\n",
        "        super().__init__()\n",
        "        self.__radius = radius\n",
        " \n",
        "    def get_radius(self):\n",
        "        return self.__radius\n",
        " \n",
        "    def set_radius(self, radius):\n",
        "        self.__radius = radius\n",
        " \n",
        "    def get_area(self):\n",
        "        return math.pi * self.__radius ** 2\n",
        " \n",
        "    def get_perimeter(self):\n",
        "        return 2 * math.pi * self.__radius\n",
        "\n",
        "s = Shape();\n",
        "r = Rectangle(10,20);\n",
        "c = Circle(2);\n",
        "\n",
        "for i in (s, r,c):\n",
        "    print(i.get_color())\n",
        "    \n",
        "for i in (r,c):\n",
        "    print(i.get_area())"
      ],
      "execution_count": null,
      "outputs": [
        {
          "output_type": "stream",
          "text": [
            "black\n",
            "black\n",
            "black\n",
            "200\n",
            "12.566370614359172\n"
          ],
          "name": "stdout"
        }
      ]
    },
    {
      "cell_type": "code",
      "metadata": {
        "id": "lHFohEiNVNQ-",
        "outputId": "98f4f9bd-3352-4e2f-acf6-4895b950d229"
      },
      "source": [
        "# Polymorphism + Inheritence [inbuilt-DS]\n",
        "\n",
        "d = {'a':1, 'b':2}\n",
        "l = [1,2,3,4]\n",
        "s = {1,2,3,4}\n",
        "\n",
        "for i in (d,l,s):\n",
        "    print(i) # polymorphism + inheritence [__str__ from object]\n"
      ],
      "execution_count": null,
      "outputs": [
        {
          "output_type": "stream",
          "text": [
            "{'a': 1, 'b': 2}\n",
            "[1, 2, 3, 4]\n",
            "{1, 2, 3, 4}\n"
          ],
          "name": "stdout"
        }
      ]
    },
    {
      "cell_type": "markdown",
      "metadata": {
        "id": "uomAiMv-VNQ_"
      },
      "source": [
        "### Iterable objects"
      ]
    },
    {
      "cell_type": "code",
      "metadata": {
        "id": "NOEUj31jVNRA",
        "outputId": "90a5d29e-d1b5-4ac3-b054-bc7c106dc6ce"
      },
      "source": [
        "### Iteratable objects in Python\n",
        "for i in [1,2,3,4]:\n",
        "    print(i)"
      ],
      "execution_count": null,
      "outputs": [
        {
          "output_type": "stream",
          "text": [
            "1\n",
            "2\n",
            "3\n",
            "4\n"
          ],
          "name": "stdout"
        }
      ]
    },
    {
      "cell_type": "code",
      "metadata": {
        "id": "rrh-jrveVNRB"
      },
      "source": [
        "# How to make objects of a class iteratable?\n",
        "# Source: https://docs.python.org/3/tutorial/classes.html#iterators\n",
        "\n",
        "class Reverse:\n",
        "    \"\"\"Iterator for looping over a sequence backwards.\"\"\"\n",
        "    def __init__(self, data): # data can be list or tuple or string\n",
        "        self.data = data\n",
        "        self.index = len(data)\n",
        "\n",
        "    def __iter__(self):\n",
        "        return self\n",
        "\n",
        "    def __next__(self):\n",
        "        if self.index == 0:\n",
        "            raise StopIteration\n",
        "        self.index = self.index - 1\n",
        "        return self.data[self.index]"
      ],
      "execution_count": null,
      "outputs": []
    },
    {
      "cell_type": "code",
      "metadata": {
        "id": "Vu1jgTw4VNRC",
        "outputId": "8686f395-fadc-4be7-d5fe-a15e7ef25be1"
      },
      "source": [
        "r = Reverse([1,2,3,4]);\n",
        "for i in r:\n",
        "    print(i)"
      ],
      "execution_count": null,
      "outputs": [
        {
          "output_type": "stream",
          "text": [
            "4\n",
            "3\n",
            "2\n",
            "1\n"
          ],
          "name": "stdout"
        }
      ]
    },
    {
      "cell_type": "code",
      "metadata": {
        "id": "0scQzsA2VNRD",
        "outputId": "aef85f1a-0b62-4c0f-c65b-5a46da22be0b"
      },
      "source": [
        "r = Reverse((1,2,3,4,5));\n",
        "for i in r:\n",
        "    print(i)"
      ],
      "execution_count": null,
      "outputs": [
        {
          "output_type": "stream",
          "text": [
            "5\n",
            "4\n",
            "3\n",
            "2\n",
            "1\n"
          ],
          "name": "stdout"
        }
      ]
    },
    {
      "cell_type": "code",
      "metadata": {
        "id": "mTbGKdkYVNRE",
        "outputId": "9b6748f3-2544-470d-9423-690fe020522f"
      },
      "source": [
        "r = Reverse(\"abcdef\");\n",
        "for i in r:\n",
        "    print(i)http://localhost:8888/notebooks/CodeWalkthroughSessions/LIVE_OOP_Basics_II.ipynb#"
      ],
      "execution_count": null,
      "outputs": [
        {
          "output_type": "stream",
          "text": [
            "f\n",
            "e\n",
            "d\n",
            "c\n",
            "b\n",
            "a\n"
          ],
          "name": "stdout"
        }
      ]
    },
    {
      "cell_type": "code",
      "metadata": {
        "id": "l8vYArxcVNRE",
        "outputId": "74ac3f0e-b38a-40be-8e5f-d8770a4847c3"
      },
      "source": [
        "r = Reverse({1,2,3,4,5});\n",
        "for i in r:\n",
        "    print(i)"
      ],
      "execution_count": null,
      "outputs": [
        {
          "output_type": "error",
          "ename": "TypeError",
          "evalue": "'set' object is not subscriptable",
          "traceback": [
            "\u001b[0;31m---------------------------------------------------------------------------\u001b[0m",
            "\u001b[0;31mTypeError\u001b[0m                                 Traceback (most recent call last)",
            "\u001b[0;32m<ipython-input-149-28ae62154c2b>\u001b[0m in \u001b[0;36m<module>\u001b[0;34m\u001b[0m\n\u001b[1;32m      1\u001b[0m \u001b[0mr\u001b[0m \u001b[0;34m=\u001b[0m \u001b[0mReverse\u001b[0m\u001b[0;34m(\u001b[0m\u001b[0;34m{\u001b[0m\u001b[0;36m1\u001b[0m\u001b[0;34m,\u001b[0m\u001b[0;36m2\u001b[0m\u001b[0;34m,\u001b[0m\u001b[0;36m3\u001b[0m\u001b[0;34m,\u001b[0m\u001b[0;36m4\u001b[0m\u001b[0;34m,\u001b[0m\u001b[0;36m5\u001b[0m\u001b[0;34m}\u001b[0m\u001b[0;34m)\u001b[0m\u001b[0;34m;\u001b[0m\u001b[0;34m\u001b[0m\u001b[0;34m\u001b[0m\u001b[0m\n\u001b[0;32m----> 2\u001b[0;31m \u001b[0;32mfor\u001b[0m \u001b[0mi\u001b[0m \u001b[0;32min\u001b[0m \u001b[0mr\u001b[0m\u001b[0;34m:\u001b[0m\u001b[0;34m\u001b[0m\u001b[0;34m\u001b[0m\u001b[0m\n\u001b[0m\u001b[1;32m      3\u001b[0m     \u001b[0mprint\u001b[0m\u001b[0;34m(\u001b[0m\u001b[0mi\u001b[0m\u001b[0;34m)\u001b[0m\u001b[0;34m\u001b[0m\u001b[0;34m\u001b[0m\u001b[0m\n",
            "\u001b[0;32m<ipython-input-145-f14c16d18755>\u001b[0m in \u001b[0;36m__next__\u001b[0;34m(self)\u001b[0m\n\u001b[1;32m     15\u001b[0m             \u001b[0;32mraise\u001b[0m \u001b[0mStopIteration\u001b[0m\u001b[0;34m\u001b[0m\u001b[0;34m\u001b[0m\u001b[0m\n\u001b[1;32m     16\u001b[0m         \u001b[0mself\u001b[0m\u001b[0;34m.\u001b[0m\u001b[0mindex\u001b[0m \u001b[0;34m=\u001b[0m \u001b[0mself\u001b[0m\u001b[0;34m.\u001b[0m\u001b[0mindex\u001b[0m \u001b[0;34m-\u001b[0m \u001b[0;36m1\u001b[0m\u001b[0;34m\u001b[0m\u001b[0;34m\u001b[0m\u001b[0m\n\u001b[0;32m---> 17\u001b[0;31m         \u001b[0;32mreturn\u001b[0m \u001b[0mself\u001b[0m\u001b[0;34m.\u001b[0m\u001b[0mdata\u001b[0m\u001b[0;34m[\u001b[0m\u001b[0mself\u001b[0m\u001b[0;34m.\u001b[0m\u001b[0mindex\u001b[0m\u001b[0;34m]\u001b[0m\u001b[0;34m\u001b[0m\u001b[0;34m\u001b[0m\u001b[0m\n\u001b[0m",
            "\u001b[0;31mTypeError\u001b[0m: 'set' object is not subscriptable"
          ]
        }
      ]
    },
    {
      "cell_type": "markdown",
      "metadata": {
        "id": "oq_75vOdVNRF"
      },
      "source": [
        "### Few questions from Yesterday's live session in the chat window"
      ]
    },
    {
      "cell_type": "code",
      "metadata": {
        "id": "5uK0buPaVNRF",
        "outputId": "e5c79719-5038-4020-fa17-c496db41da55"
      },
      "source": [
        "# Empty classes as a structure.\n",
        "\n",
        "class E:\n",
        "    pass\n",
        "\n",
        "e1 = E();\n",
        "e1.name=\"abc\" # name and no attributes for e1\n",
        "e1.no = 123\n",
        "\n",
        "\n",
        "e2 = E(); # name and addr attrib for e2\n",
        "e2.name = \"xyz\"\n",
        "e2.addr = \"abcdefghijklmnop\"\n",
        "\n",
        "\n",
        "print(e1.name, e1.no)\n",
        "print(e2.name, e2.addr)"
      ],
      "execution_count": null,
      "outputs": [
        {
          "output_type": "stream",
          "text": [
            "abc 123\n",
            "xyz abcdefghijklmnop\n"
          ],
          "name": "stdout"
        }
      ]
    },
    {
      "cell_type": "code",
      "metadata": {
        "id": "I-XGmeyHVNRG",
        "outputId": "dc59b460-7ff2-4085-a4fb-5c6374cec9a3"
      },
      "source": [
        "# function within __init__\n",
        "class A:\n",
        "    def __init__(self):\n",
        "        \n",
        "        def function_within(x):\n",
        "            return x+1\n",
        "        \n",
        "        i =10;\n",
        "        print(function_within(i))\n",
        "        \n",
        "\n",
        "a = A();"
      ],
      "execution_count": null,
      "outputs": [
        {
          "output_type": "stream",
          "text": [
            "11\n"
          ],
          "name": "stdout"
        }
      ]
    },
    {
      "cell_type": "code",
      "metadata": {
        "id": "d1y-L1kNVNRG",
        "outputId": "0da24897-b443-4e8b-b08d-8373a6e97d0b"
      },
      "source": [
        "# dir() is a powerful inbuilt function in Python3, \n",
        "# which returns list of the attributes and methods of any object\n",
        "# like classes , modules, strings, lists, dictionaries etc.\n",
        "\n",
        "import math\n",
        "print(dir(math)) # module\n",
        "\n"
      ],
      "execution_count": null,
      "outputs": [
        {
          "output_type": "stream",
          "text": [
            "['__doc__', '__file__', '__loader__', '__name__', '__package__', '__spec__', 'acos', 'acosh', 'asin', 'asinh', 'atan', 'atan2', 'atanh', 'ceil', 'copysign', 'cos', 'cosh', 'degrees', 'e', 'erf', 'erfc', 'exp', 'expm1', 'fabs', 'factorial', 'floor', 'fmod', 'frexp', 'fsum', 'gamma', 'gcd', 'hypot', 'inf', 'isclose', 'isfinite', 'isinf', 'isnan', 'ldexp', 'lgamma', 'log', 'log10', 'log1p', 'log2', 'modf', 'nan', 'pi', 'pow', 'radians', 'remainder', 'sin', 'sinh', 'sqrt', 'tan', 'tanh', 'tau', 'trunc']\n"
          ],
          "name": "stdout"
        }
      ]
    },
    {
      "cell_type": "code",
      "metadata": {
        "id": "t5i_ldZAVNRH",
        "outputId": "7a4fd0cd-90d0-450a-a424-74d2b2eb896a"
      },
      "source": [
        "class B:\n",
        "    def f():\n",
        "        print(\"Hi\");\n",
        "\n",
        "print(dir(B))"
      ],
      "execution_count": null,
      "outputs": [
        {
          "output_type": "stream",
          "text": [
            "['__class__', '__delattr__', '__dict__', '__dir__', '__doc__', '__eq__', '__format__', '__ge__', '__getattribute__', '__gt__', '__hash__', '__init__', '__init_subclass__', '__le__', '__lt__', '__module__', '__ne__', '__new__', '__reduce__', '__reduce_ex__', '__repr__', '__setattr__', '__sizeof__', '__str__', '__subclasshook__', '__weakref__', 'f']\n"
          ],
          "name": "stdout"
        }
      ]
    },
    {
      "cell_type": "code",
      "metadata": {
        "id": "3-IGuPvaVNRH",
        "outputId": "f80cf7fa-6e2b-491d-c2da-f3caea096660"
      },
      "source": [
        "# use tab to autofill, differs from one IDE to another.\n",
        "print(math.pi)"
      ],
      "execution_count": null,
      "outputs": [
        {
          "output_type": "stream",
          "text": [
            "3.141592653589793\n"
          ],
          "name": "stdout"
        }
      ]
    },
    {
      "cell_type": "code",
      "metadata": {
        "id": "YhFEXUqcVNRI",
        "outputId": "b22c78cc-545b-4f81-f716-72529adcc091"
      },
      "source": [
        "import sys\n",
        "print(sys.version)"
      ],
      "execution_count": null,
      "outputs": [
        {
          "output_type": "stream",
          "text": [
            "3.7.3 (default, Mar 27 2019, 09:23:15) \n",
            "[Clang 10.0.1 (clang-1001.0.46.3)]\n"
          ],
          "name": "stdout"
        }
      ]
    },
    {
      "cell_type": "code",
      "metadata": {
        "id": "xIAo_1zpVNRI",
        "outputId": "5021903f-3bc8-428b-940e-f1499103fd4e"
      },
      "source": [
        "# private methods are just like private attributes that we saw earlier \"__function()\"\n",
        "\n",
        "class C:\n",
        "    def __pr(self, i):\n",
        "        return 2**i;\n",
        "    \n",
        "    def pu(self, x):\n",
        "        return self.__pr(x)+1;\n",
        "\n",
        "c = C();\n",
        "\n",
        "print(c.pu(4))\n",
        "\n",
        "print(c.__pr(4))\n",
        "    "
      ],
      "execution_count": null,
      "outputs": [
        {
          "output_type": "stream",
          "text": [
            "17\n"
          ],
          "name": "stdout"
        },
        {
          "output_type": "error",
          "ename": "AttributeError",
          "evalue": "'C' object has no attribute '__pr'",
          "traceback": [
            "\u001b[0;31m---------------------------------------------------------------------------\u001b[0m",
            "\u001b[0;31mAttributeError\u001b[0m                            Traceback (most recent call last)",
            "\u001b[0;32m<ipython-input-71-070461f56116>\u001b[0m in \u001b[0;36m<module>\u001b[0;34m\u001b[0m\n\u001b[1;32m     12\u001b[0m \u001b[0mprint\u001b[0m\u001b[0;34m(\u001b[0m\u001b[0mc\u001b[0m\u001b[0;34m.\u001b[0m\u001b[0mpu\u001b[0m\u001b[0;34m(\u001b[0m\u001b[0;36m4\u001b[0m\u001b[0;34m)\u001b[0m\u001b[0;34m)\u001b[0m\u001b[0;34m\u001b[0m\u001b[0;34m\u001b[0m\u001b[0m\n\u001b[1;32m     13\u001b[0m \u001b[0;34m\u001b[0m\u001b[0m\n\u001b[0;32m---> 14\u001b[0;31m \u001b[0mprint\u001b[0m\u001b[0;34m(\u001b[0m\u001b[0mc\u001b[0m\u001b[0;34m.\u001b[0m\u001b[0m__pr\u001b[0m\u001b[0;34m(\u001b[0m\u001b[0;36m4\u001b[0m\u001b[0;34m)\u001b[0m\u001b[0;34m)\u001b[0m\u001b[0;34m\u001b[0m\u001b[0;34m\u001b[0m\u001b[0m\n\u001b[0m\u001b[1;32m     15\u001b[0m \u001b[0;34m\u001b[0m\u001b[0m\n",
            "\u001b[0;31mAttributeError\u001b[0m: 'C' object has no attribute '__pr'"
          ]
        }
      ]
    },
    {
      "cell_type": "code",
      "metadata": {
        "id": "u6dNZ6JSVNRJ",
        "outputId": "c8892633-4bd7-48da-8320-524b56181334"
      },
      "source": [
        "print(dir(C))"
      ],
      "execution_count": null,
      "outputs": [
        {
          "output_type": "stream",
          "text": [
            "['_C__pr', '__class__', '__delattr__', '__dict__', '__dir__', '__doc__', '__eq__', '__format__', '__ge__', '__getattribute__', '__gt__', '__hash__', '__init__', '__init_subclass__', '__le__', '__lt__', '__module__', '__ne__', '__new__', '__reduce__', '__reduce_ex__', '__repr__', '__setattr__', '__sizeof__', '__str__', '__subclasshook__', '__weakref__', 'pu']\n"
          ],
          "name": "stdout"
        }
      ]
    },
    {
      "cell_type": "code",
      "metadata": {
        "id": "FVp22pGkVNRJ",
        "outputId": "967cf409-8d5b-4130-a28f-a146efc5f38a"
      },
      "source": [
        "print(c._C__pr(4))"
      ],
      "execution_count": null,
      "outputs": [
        {
          "output_type": "stream",
          "text": [
            "16\n"
          ],
          "name": "stdout"
        }
      ]
    },
    {
      "cell_type": "code",
      "metadata": {
        "id": "cgmH0_yLVNRK",
        "outputId": "485004a0-1c07-494f-e864-b736e0e83dfd"
      },
      "source": [
        "# Inheritence of private members\n",
        "# C++ has public, private, protected [accessible in all sub-classes but not outside the class]\n",
        "\n",
        "class C:\n",
        "    def __pr(self, i): # private due to TWO underscores, implementation dependent, suggested \n",
        "        return 2**i;\n",
        "    \n",
        "    def pu(self, x):\n",
        "        return self.__pr(x)+1;\n",
        "\n",
        "print(dir(C))\n",
        "print(\"\\n\\n***************************************************************************\\n\\n\")\n",
        "    \n",
        "class D(C):\n",
        "    def f1(self, i):\n",
        "        return self._C__pr(i) # accessing private member of base class\n",
        "    \n",
        "    def f2(self, i):\n",
        "        return self.pu(i) # accessing private member of base class\n",
        "    \n",
        "d = D();\n",
        "print(dir(D))\n",
        "\n",
        "print(d.f2(4))\n"
      ],
      "execution_count": null,
      "outputs": [
        {
          "output_type": "stream",
          "text": [
            "['_C__pr', '__class__', '__delattr__', '__dict__', '__dir__', '__doc__', '__eq__', '__format__', '__ge__', '__getattribute__', '__gt__', '__hash__', '__init__', '__init_subclass__', '__le__', '__lt__', '__module__', '__ne__', '__new__', '__reduce__', '__reduce_ex__', '__repr__', '__setattr__', '__sizeof__', '__str__', '__subclasshook__', '__weakref__', 'pu']\n",
            "\n",
            "\n",
            "***************************************************************************\n",
            "\n",
            "\n",
            "['_C__pr', '__class__', '__delattr__', '__dict__', '__dir__', '__doc__', '__eq__', '__format__', '__ge__', '__getattribute__', '__gt__', '__hash__', '__init__', '__init_subclass__', '__le__', '__lt__', '__module__', '__ne__', '__new__', '__reduce__', '__reduce_ex__', '__repr__', '__setattr__', '__sizeof__', '__str__', '__subclasshook__', '__weakref__', 'f1', 'f2', 'pu']\n",
            "17\n"
          ],
          "name": "stdout"
        }
      ]
    },
    {
      "cell_type": "code",
      "metadata": {
        "id": "Q2IbkbP2VNRK",
        "outputId": "9c83a819-7312-4251-dfd0-e318742cea34"
      },
      "source": [
        "print(d.f1(4))"
      ],
      "execution_count": null,
      "outputs": [
        {
          "output_type": "stream",
          "text": [
            "16\n"
          ],
          "name": "stdout"
        }
      ]
    },
    {
      "cell_type": "code",
      "metadata": {
        "id": "B94oTJL5VNRL",
        "outputId": "24a57e72-fcf6-421f-cb3c-0dba0bffe893"
      },
      "source": [
        "# Protected in Python: ONE _\n",
        "# Public: NO _\n",
        "# Private: TWO _\n",
        "# Convention and not a feature of the programming language. Implementation dependent\n",
        "# Refer: https://docs.python.org/3/tutorial/classes.html#private-variables\n",
        "\n",
        "class C:\n",
        "    def _pr(self, i): # protected due to ONE underscore, implementation dependent, suggested \n",
        "        return 2**i;\n",
        "    \n",
        "    def pu(self, x):\n",
        "        return self._pr(x)+1;\n",
        "\n",
        "print(dir(C))\n",
        "print(\"\\n\\n***************************************************************************\\n\\n\")\n",
        "    \n",
        "class D(C):\n",
        "    def f1(self, i):\n",
        "        return self._pr(i) # accessing private member of base class\n",
        "    \n",
        "    def f2(self, i):\n",
        "        return self.pu(i) # accessing private member of base class\n",
        "    \n",
        "d = D();\n",
        "print(dir(D))\n",
        "\n",
        "print(d.f1(4)) # calling a protected member in base calss from derived class\n"
      ],
      "execution_count": null,
      "outputs": [
        {
          "output_type": "stream",
          "text": [
            "['__class__', '__delattr__', '__dict__', '__dir__', '__doc__', '__eq__', '__format__', '__ge__', '__getattribute__', '__gt__', '__hash__', '__init__', '__init_subclass__', '__le__', '__lt__', '__module__', '__ne__', '__new__', '__reduce__', '__reduce_ex__', '__repr__', '__setattr__', '__sizeof__', '__str__', '__subclasshook__', '__weakref__', '_pr', 'pu']\n",
            "\n",
            "\n",
            "***************************************************************************\n",
            "\n",
            "\n",
            "['__class__', '__delattr__', '__dict__', '__dir__', '__doc__', '__eq__', '__format__', '__ge__', '__getattribute__', '__gt__', '__hash__', '__init__', '__init_subclass__', '__le__', '__lt__', '__module__', '__ne__', '__new__', '__reduce__', '__reduce_ex__', '__repr__', '__setattr__', '__sizeof__', '__str__', '__subclasshook__', '__weakref__', '_pr', 'f1', 'f2', 'pu']\n",
            "16\n"
          ],
          "name": "stdout"
        }
      ]
    },
    {
      "cell_type": "code",
      "metadata": {
        "id": "eqD6wcSCVNRL",
        "outputId": "903cad2a-b725-40c7-bd75-53dff351ba92"
      },
      "source": [
        "c = C();\n",
        "print (c._pr(3))"
      ],
      "execution_count": null,
      "outputs": [
        {
          "output_type": "stream",
          "text": [
            "8\n"
          ],
          "name": "stdout"
        }
      ]
    },
    {
      "cell_type": "code",
      "metadata": {
        "id": "xDGkLfocVNRM",
        "outputId": "236dae61-ef60-4c20-a43d-7fcc74897881"
      },
      "source": [
        "# Constructor overloading:\n",
        "\n",
        "class A:\n",
        "    def __init__(self, i):\n",
        "        self.var1 = i;\n",
        "        self.var2 = 0;\n",
        "        \n",
        "    def __init__(self, i,j):\n",
        "        self.var1 = i;\n",
        "        self.var2 = j;\n",
        "        \n",
        "    def __str__(self):\n",
        "        return \"\\ni=\"+str(self.var1)+\"\\t\"+\"j=\"+str(self.var2)\n",
        "        \n",
        "a1 = A(10);\n",
        "print(a1)\n",
        "\n",
        "# We can overload but can only use the most recent function definition\n",
        "        "
      ],
      "execution_count": null,
      "outputs": [
        {
          "output_type": "error",
          "ename": "TypeError",
          "evalue": "__init__() missing 1 required positional argument: 'j'",
          "traceback": [
            "\u001b[0;31m---------------------------------------------------------------------------\u001b[0m",
            "\u001b[0;31mTypeError\u001b[0m                                 Traceback (most recent call last)",
            "\u001b[0;32m<ipython-input-42-a4511922906c>\u001b[0m in \u001b[0;36m<module>\u001b[0;34m\u001b[0m\n\u001b[1;32m     13\u001b[0m         \u001b[0;32mreturn\u001b[0m \u001b[0;34m\"\\ni=\"\u001b[0m\u001b[0;34m+\u001b[0m\u001b[0mstr\u001b[0m\u001b[0;34m(\u001b[0m\u001b[0mself\u001b[0m\u001b[0;34m.\u001b[0m\u001b[0mvar1\u001b[0m\u001b[0;34m)\u001b[0m\u001b[0;34m+\u001b[0m\u001b[0;34m\"\\t\"\u001b[0m\u001b[0;34m+\u001b[0m\u001b[0;34m\"j=\"\u001b[0m\u001b[0;34m+\u001b[0m\u001b[0mstr\u001b[0m\u001b[0;34m(\u001b[0m\u001b[0mself\u001b[0m\u001b[0;34m.\u001b[0m\u001b[0mvar2\u001b[0m\u001b[0;34m)\u001b[0m\u001b[0;34m\u001b[0m\u001b[0;34m\u001b[0m\u001b[0m\n\u001b[1;32m     14\u001b[0m \u001b[0;34m\u001b[0m\u001b[0m\n\u001b[0;32m---> 15\u001b[0;31m \u001b[0ma1\u001b[0m \u001b[0;34m=\u001b[0m \u001b[0mA\u001b[0m\u001b[0;34m(\u001b[0m\u001b[0;36m10\u001b[0m\u001b[0;34m)\u001b[0m\u001b[0;34m;\u001b[0m\u001b[0;34m\u001b[0m\u001b[0;34m\u001b[0m\u001b[0m\n\u001b[0m\u001b[1;32m     16\u001b[0m \u001b[0mprint\u001b[0m\u001b[0;34m(\u001b[0m\u001b[0ma1\u001b[0m\u001b[0;34m)\u001b[0m\u001b[0;34m\u001b[0m\u001b[0;34m\u001b[0m\u001b[0m\n\u001b[1;32m     17\u001b[0m \u001b[0;34m\u001b[0m\u001b[0m\n",
            "\u001b[0;31mTypeError\u001b[0m: __init__() missing 1 required positional argument: 'j'"
          ]
        }
      ]
    },
    {
      "cell_type": "code",
      "metadata": {
        "id": "pw9uLEZ_VNRM",
        "outputId": "b75bd135-f706-44dd-a0bd-ed011c4e6201"
      },
      "source": [
        "a1 = A(10,20);\n",
        "print(a1)"
      ],
      "execution_count": null,
      "outputs": [
        {
          "output_type": "stream",
          "text": [
            "\n",
            "i=10\tj=20\n"
          ],
          "name": "stdout"
        }
      ]
    },
    {
      "cell_type": "code",
      "metadata": {
        "id": "79D0YpOQVNRN",
        "outputId": "86a7d9bb-1989-4202-b5f1-8867517af956"
      },
      "source": [
        "# Can we call other functions inside __init__?\n",
        "\n",
        "class A:\n",
        "    def __init__(self, i,j):\n",
        "        f(i,j)\n",
        "        \n",
        "    def f(self, i,j):\n",
        "        self.var1 = i;\n",
        "        self.var2 = j;\n",
        "        \n",
        "    def __str__(self):\n",
        "        return \"\\ni=\"+str(self.var1)+\"\\t\"+\"j=\"+str(self.var2)\n",
        "        \n",
        "a1 = A(10,20);\n",
        "print(a1)"
      ],
      "execution_count": null,
      "outputs": [
        {
          "output_type": "error",
          "ename": "NameError",
          "evalue": "name 'f' is not defined",
          "traceback": [
            "\u001b[0;31m---------------------------------------------------------------------------\u001b[0m",
            "\u001b[0;31mNameError\u001b[0m                                 Traceback (most recent call last)",
            "\u001b[0;32m<ipython-input-61-b8f3ad544ae8>\u001b[0m in \u001b[0;36m<module>\u001b[0;34m\u001b[0m\n\u001b[1;32m     12\u001b[0m         \u001b[0;32mreturn\u001b[0m \u001b[0;34m\"\\ni=\"\u001b[0m\u001b[0;34m+\u001b[0m\u001b[0mstr\u001b[0m\u001b[0;34m(\u001b[0m\u001b[0mself\u001b[0m\u001b[0;34m.\u001b[0m\u001b[0mvar1\u001b[0m\u001b[0;34m)\u001b[0m\u001b[0;34m+\u001b[0m\u001b[0;34m\"\\t\"\u001b[0m\u001b[0;34m+\u001b[0m\u001b[0;34m\"j=\"\u001b[0m\u001b[0;34m+\u001b[0m\u001b[0mstr\u001b[0m\u001b[0;34m(\u001b[0m\u001b[0mself\u001b[0m\u001b[0;34m.\u001b[0m\u001b[0mvar2\u001b[0m\u001b[0;34m)\u001b[0m\u001b[0;34m\u001b[0m\u001b[0;34m\u001b[0m\u001b[0m\n\u001b[1;32m     13\u001b[0m \u001b[0;34m\u001b[0m\u001b[0m\n\u001b[0;32m---> 14\u001b[0;31m \u001b[0ma1\u001b[0m \u001b[0;34m=\u001b[0m \u001b[0mA\u001b[0m\u001b[0;34m(\u001b[0m\u001b[0;36m10\u001b[0m\u001b[0;34m,\u001b[0m\u001b[0;36m20\u001b[0m\u001b[0;34m)\u001b[0m\u001b[0;34m;\u001b[0m\u001b[0;34m\u001b[0m\u001b[0;34m\u001b[0m\u001b[0m\n\u001b[0m\u001b[1;32m     15\u001b[0m \u001b[0mprint\u001b[0m\u001b[0;34m(\u001b[0m\u001b[0ma1\u001b[0m\u001b[0;34m)\u001b[0m\u001b[0;34m\u001b[0m\u001b[0;34m\u001b[0m\u001b[0m\n",
            "\u001b[0;32m<ipython-input-61-b8f3ad544ae8>\u001b[0m in \u001b[0;36m__init__\u001b[0;34m(self, i, j)\u001b[0m\n\u001b[1;32m      3\u001b[0m \u001b[0;32mclass\u001b[0m \u001b[0mA\u001b[0m\u001b[0;34m:\u001b[0m\u001b[0;34m\u001b[0m\u001b[0;34m\u001b[0m\u001b[0m\n\u001b[1;32m      4\u001b[0m     \u001b[0;32mdef\u001b[0m \u001b[0m__init__\u001b[0m\u001b[0;34m(\u001b[0m\u001b[0mself\u001b[0m\u001b[0;34m,\u001b[0m \u001b[0mi\u001b[0m\u001b[0;34m,\u001b[0m\u001b[0mj\u001b[0m\u001b[0;34m)\u001b[0m\u001b[0;34m:\u001b[0m\u001b[0;34m\u001b[0m\u001b[0;34m\u001b[0m\u001b[0m\n\u001b[0;32m----> 5\u001b[0;31m         \u001b[0mf\u001b[0m\u001b[0;34m(\u001b[0m\u001b[0mi\u001b[0m\u001b[0;34m,\u001b[0m\u001b[0mj\u001b[0m\u001b[0;34m)\u001b[0m\u001b[0;34m\u001b[0m\u001b[0;34m\u001b[0m\u001b[0m\n\u001b[0m\u001b[1;32m      6\u001b[0m \u001b[0;34m\u001b[0m\u001b[0m\n\u001b[1;32m      7\u001b[0m     \u001b[0;32mdef\u001b[0m \u001b[0mf\u001b[0m\u001b[0;34m(\u001b[0m\u001b[0mself\u001b[0m\u001b[0;34m,\u001b[0m \u001b[0mi\u001b[0m\u001b[0;34m,\u001b[0m\u001b[0mj\u001b[0m\u001b[0;34m)\u001b[0m\u001b[0;34m:\u001b[0m\u001b[0;34m\u001b[0m\u001b[0;34m\u001b[0m\u001b[0m\n",
            "\u001b[0;31mNameError\u001b[0m: name 'f' is not defined"
          ]
        }
      ]
    },
    {
      "cell_type": "code",
      "metadata": {
        "id": "AgJ9fOwGVNRN",
        "outputId": "48541782-e3d1-44ac-8412-5c6ac11b2012"
      },
      "source": [
        "class A:\n",
        "        \n",
        "    def __init__(self, i,j):\n",
        "        self.f(i,j)\n",
        "    \n",
        "    def f(self, i,j):\n",
        "        self.var1 = i;\n",
        "        self.var2 = j;\n",
        "        \n",
        "    def __str__(self):\n",
        "        return \"\\ni=\"+str(self.var1)+\"\\t\"+\"j=\"+str(self.var2)\n",
        "        \n",
        "a1 = A(10,20);\n",
        "print(a1)"
      ],
      "execution_count": null,
      "outputs": [
        {
          "output_type": "stream",
          "text": [
            "\n",
            "i=10\tj=20\n"
          ],
          "name": "stdout"
        }
      ]
    },
    {
      "cell_type": "markdown",
      "metadata": {
        "id": "hovqBY4iVNRO"
      },
      "source": [
        "- In later sections, we will use many major libraries where we will revisit OOP-concepts again and again\n",
        "- We will extend some classes from major libraries (ML/DS/Plotting/Stats/DL) to suit our needs"
      ]
    }
  ]
}